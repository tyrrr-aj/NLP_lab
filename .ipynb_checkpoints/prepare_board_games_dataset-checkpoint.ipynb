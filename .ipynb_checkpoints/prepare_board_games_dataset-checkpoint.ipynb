{
 "cells": [
  {
   "cell_type": "code",
   "execution_count": 112,
   "metadata": {},
   "outputs": [],
   "source": [
    "from bs4 import BeautifulSoup, NavigableString, Tag\n",
    "import requests"
   ]
  },
  {
   "cell_type": "code",
   "execution_count": 157,
   "metadata": {},
   "outputs": [],
   "source": [
    "base_url = 'https://3trolle.pl'"
   ]
  },
  {
   "cell_type": "code",
   "execution_count": 175,
   "metadata": {},
   "outputs": [],
   "source": [
    "def get_soup_from_url(url):\n",
    "    return BeautifulSoup(requests.get(url).text)\n",
    "\n",
    "def get_games_from_page(category_page):\n",
    "    game_tags = category_page.find('ul', {'class': 'product_list grid row'}).find_all('a', {'class': 'product_img_link'})\n",
    "    return (get_soup_from_url(tag.get('href')) for tag in game_tags)\n",
    "\n",
    "def get_next_page(category_page):\n",
    "    next_page_tag = category_page.find('li', {'id': 'pagination_next'}).find('a')\n",
    "    if next_page_tag is not None:\n",
    "        link = next_page_tag.get('href')\n",
    "        if not link.startswith('https'):\n",
    "            link = base_url + link\n",
    "        return get_soup_from_url(link)\n",
    "    else:\n",
    "        return None\n",
    "\n",
    "def get_all_category_pages(category_url):\n",
    "    first_category_page = get_soup_from_url(category_url)\n",
    "    pages = [first_category_page]\n",
    "    next_page = get_next_page(first_category_page)\n",
    "    while next_page is not None:\n",
    "        pages.append(next_page)\n",
    "        next_page = get_next_page(next_page)\n",
    "    return pages\n",
    "\n",
    "def get_game_title(game_page):\n",
    "    return str(game_page.find('div', {'id': 'product_name_wrap'}).find('h1').string)\n",
    "\n",
    "def get_game_description(game_page):\n",
    "    description_tag = game_page.find('div', {'id': 'short_description_content'})\n",
    "    if game_page.find('span', string='Instrukcja: angielska') is not None:\n",
    "        return None\n",
    "    elif description_tag is None:\n",
    "        return None\n",
    "    else:\n",
    "        return str(description_tag.string)\n",
    "    \n",
    "def get_titles_and_descriptions(category_url):\n",
    "    pages = get_all_category_pages(category_url)\n",
    "    \n",
    "    titles_and_descriptions = [(get_game_title(game_page), get_game_description(game_page)) \n",
    "                    for page in pages for game_page in get_games_from_page(page)]\n",
    "    return [td for td in titles_and_descriptions if td[1] is not None]"
   ]
  },
  {
   "cell_type": "code",
   "execution_count": 153,
   "metadata": {},
   "outputs": [],
   "source": [
    "category_urls = {\n",
    "    'Familijne': 'https://3trolle.pl/28-rodzinne//s-1/pokaz_tylko-gry_planszowe?n=80',\n",
    "    'Strategiczne': 'https://3trolle.pl/39-strategiczne//s-1/pokaz_tylko-gry_planszowe?n=80',\n",
    "    'Imprezowe': 'https://3trolle.pl/34-imprezowe//s-1/pokaz_tylko-gry_planszowe+gry_karciane?n=80',\n",
    "    'Przygodowe': 'https://3trolle.pl/36-przygodowe/?id_category=36&n=80'\n",
    "}"
   ]
  },
  {
   "cell_type": "code",
   "execution_count": 173,
   "metadata": {},
   "outputs": [
    {
     "data": {
      "text/plain": [
       "139"
      ]
     },
     "execution_count": 173,
     "metadata": {},
     "output_type": "execute_result"
    }
   ],
   "source": [
    "descs = get_descriptions_of_games_in_category(category_urls['Strategiczne'])\n",
    "len(descs)"
   ]
  },
  {
   "cell_type": "code",
   "execution_count": 176,
   "metadata": {},
   "outputs": [],
   "source": [
    "titles_and_descriptions = {}\n",
    "\n",
    "for category_name, category_url in category_urls.items():\n",
    "    descriptions[category_name] = get_titles_and_descriptions(category_url)"
   ]
  },
  {
   "cell_type": "code",
   "execution_count": 184,
   "metadata": {},
   "outputs": [],
   "source": [
    "desc_arr = [(title, description, category_name) for category_name in titles_and_descriptions \n",
    "            for title, description in titles_and_descriptions[category_name]]"
   ]
  },
  {
   "cell_type": "code",
   "execution_count": 185,
   "metadata": {},
   "outputs": [],
   "source": [
    "import pandas as pd\n",
    "\n",
    "dataset = pd.DataFrame(desc_arr, columns=['title', 'description', 'category'])"
   ]
  },
  {
   "cell_type": "code",
   "execution_count": 195,
   "metadata": {},
   "outputs": [
    {
     "data": {
      "text/plain": [
       "Activity Go                                               2\n",
       "Zapraszamy ponownie do podziemi                           2\n",
       "Timeline: Wynalazki                                       2\n",
       "Activity Compact                                          2\n",
       "Gierki małżeńskie: Wiem wszystko                          2\n",
       "Pingwiny z Madagaskaru                                    2\n",
       "Świat Dysku: Sekary                                       2\n",
       "Dixit                                                     2\n",
       "E-motionz (Travel)                                        2\n",
       "Gloomhaven (edycja polska)                                2\n",
       "iKnow (edycja polska)                                     2\n",
       "Gorący ziemniak (Travel)                                  2\n",
       "Łowcy Skarbów                                             2\n",
       "Mr. Jack Pocket                                           2\n",
       "Agricola - wersja dla graczy                              2\n",
       "Gra o Tron: Quiz                                          2\n",
       "Story Cubes: Interwencje                                  2\n",
       "Bipper 1.0                                                2\n",
       "Wtedy kiedy                                               2\n",
       "Ishtar                                                    2\n",
       "Fruit Salad                                               2\n",
       "Palce w pralce                                            2\n",
       "Story Cubes                                               2\n",
       "Dobble                                                    2\n",
       "Great Tour                                                2\n",
       "Ryzyk Fizyk FAMILY                                        2\n",
       "Reykholt                                                  2\n",
       "Takie Życie!                                              2\n",
       "Bingo w metalowej puszce                                  2\n",
       "Zaginione Dziedzictwo 2: Kronika I - Latający Ogród       2\n",
       "Dobble Plaża                                              2\n",
       "Fasolki                                                   2\n",
       "Jaskiniowcy                                               2\n",
       "Aqua Brunch (edycja polska)                               2\n",
       "Zaginione Dziedzictwo 3: Kronika II - Wieża Białozłota    2\n",
       "ExoPlanets                                                2\n",
       "Dobble Harry Potter                                       2\n",
       "Gdybyś był... (Travel)                                    2\n",
       "Kalambury                                                 2\n",
       "Small World (edycja polska)                               2\n",
       "Dobble Kids                                               2\n",
       "Flick ‘em Up! - Dzika Strzelanka                          2\n",
       "Potwory w Nowym Jorku                                     2\n",
       "Dixit Odyseja                                             2\n",
       "Pirackie poRachunki                                       2\n",
       "Azul: Witraże Sintry                                      2\n",
       "Small World of Warcraft (edycja polska)                   2\n",
       "Azul (edycja polska)                                      2\n",
       "Wióry Lecą                                                2\n",
       "Takie Życie 3 - Tajemnice                                 2\n",
       "Story Cubes: Bohaterowie                                  2\n",
       "Story Cubes: Science Fiction                              2\n",
       "HISTORIA (wydanie polskie)                                2\n",
       "Zaginione Dziedzictwo 4: Kronika II - Gwiezdne Ostrze     2\n",
       "Reef (edycja polska)                                      2\n",
       "Abominacja: Dziedzictwo Frankensteina                     2\n",
       "Name: title, dtype: int64"
      ]
     },
     "execution_count": 195,
     "metadata": {},
     "output_type": "execute_result"
    }
   ],
   "source": [
    "counts = dataset.title.value_counts()\n",
    "counts[counts > 1]"
   ]
  },
  {
   "cell_type": "code",
   "execution_count": 188,
   "metadata": {},
   "outputs": [],
   "source": [
    "dataset.to_csv('gry_planszowe.csv', index=False)"
   ]
  },
  {
   "cell_type": "code",
   "execution_count": 189,
   "metadata": {},
   "outputs": [
    {
     "name": "stdout",
     "output_type": "stream",
     "text": [
      "Familijne: 322\n",
      "Strategiczne: 139\n",
      "Imprezowe: 179\n",
      "Przygodowe: 70\n"
     ]
    }
   ],
   "source": [
    "for k, v in titles_and_descriptions.items():\n",
    "    print(f'{k}: {len(v)}')"
   ]
  }
 ],
 "metadata": {
  "kernelspec": {
   "display_name": "Python 3",
   "language": "python",
   "name": "python3"
  },
  "language_info": {
   "codemirror_mode": {
    "name": "ipython",
    "version": 3
   },
   "file_extension": ".py",
   "mimetype": "text/x-python",
   "name": "python",
   "nbconvert_exporter": "python",
   "pygments_lexer": "ipython3",
   "version": "3.7.6"
  }
 },
 "nbformat": 4,
 "nbformat_minor": 4
}
