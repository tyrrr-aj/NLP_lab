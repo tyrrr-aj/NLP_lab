{
 "cells": [
  {
   "cell_type": "code",
   "execution_count": 112,
   "metadata": {},
   "outputs": [],
   "source": [
    "from bs4 import BeautifulSoup, NavigableString, Tag\n",
    "import requests"
   ]
  },
  {
   "cell_type": "code",
   "execution_count": 157,
   "metadata": {},
   "outputs": [],
   "source": [
    "base_url = 'https://3trolle.pl'"
   ]
  },
  {
   "cell_type": "code",
   "execution_count": 175,
   "metadata": {},
   "outputs": [],
   "source": [
    "def get_soup_from_url(url):\n",
    "    return BeautifulSoup(requests.get(url).text)\n",
    "\n",
    "def get_games_from_page(category_page):\n",
    "    game_tags = category_page.find('ul', {'class': 'product_list grid row'}).find_all('a', {'class': 'product_img_link'})\n",
    "    return (get_soup_from_url(tag.get('href')) for tag in game_tags)\n",
    "\n",
    "def get_next_page(category_page):\n",
    "    next_page_tag = category_page.find('li', {'id': 'pagination_next'}).find('a')\n",
    "    if next_page_tag is not None:\n",
    "        link = next_page_tag.get('href')\n",
    "        if not link.startswith('https'):\n",
    "            link = base_url + link\n",
    "        return get_soup_from_url(link)\n",
    "    else:\n",
    "        return None\n",
    "\n",
    "def get_all_category_pages(category_url):\n",
    "    first_category_page = get_soup_from_url(category_url)\n",
    "    pages = [first_category_page]\n",
    "    next_page = get_next_page(first_category_page)\n",
    "    while next_page is not None:\n",
    "        pages.append(next_page)\n",
    "        next_page = get_next_page(next_page)\n",
    "    return pages\n",
    "\n",
    "def get_game_title(game_page):\n",
    "    return str(game_page.find('div', {'id': 'product_name_wrap'}).find('h1').string)\n",
    "\n",
    "def get_game_description(game_page):\n",
    "    description_tag = game_page.find('div', {'id': 'short_description_content'})\n",
    "    if game_page.find('span', string='Instrukcja: angielska') is not None:\n",
    "        return None\n",
    "    elif description_tag is None:\n",
    "        return None\n",
    "    else:\n",
    "        return str(description_tag.string)\n",
    "    \n",
    "def get_titles_and_descriptions(category_url):\n",
    "    pages = get_all_category_pages(category_url)\n",
    "    \n",
    "    titles_and_descriptions = [(get_game_title(game_page), get_game_description(game_page)) \n",
    "                    for page in pages for game_page in get_games_from_page(page)]\n",
    "    return [td for td in titles_and_descriptions if td[1] is not None]"
   ]
  },
  {
   "cell_type": "code",
   "execution_count": 153,
   "metadata": {},
   "outputs": [],
   "source": [
    "category_urls = {\n",
    "    'Familijne': 'https://3trolle.pl/28-rodzinne//s-1/pokaz_tylko-gry_planszowe?n=80',\n",
    "    'Strategiczne': 'https://3trolle.pl/39-strategiczne//s-1/pokaz_tylko-gry_planszowe?n=80',\n",
    "    'Imprezowe': 'https://3trolle.pl/34-imprezowe//s-1/pokaz_tylko-gry_planszowe+gry_karciane?n=80',\n",
    "    'Przygodowe': 'https://3trolle.pl/36-przygodowe/?id_category=36&n=80'\n",
    "}"
   ]
  },
  {
   "cell_type": "code",
   "execution_count": 173,
   "metadata": {},
   "outputs": [
    {
     "data": {
      "text/plain": [
       "139"
      ]
     },
     "execution_count": 173,
     "metadata": {},
     "output_type": "execute_result"
    }
   ],
   "source": [
    "descs = get_descriptions_of_games_in_category(category_urls['Strategiczne'])\n",
    "len(descs)"
   ]
  },
  {
   "cell_type": "code",
   "execution_count": 176,
   "metadata": {},
   "outputs": [],
   "source": [
    "titles_and_descriptions = {}\n",
    "\n",
    "for category_name, category_url in category_urls.items():\n",
    "    descriptions[category_name] = get_titles_and_descriptions(category_url)"
   ]
  },
  {
   "cell_type": "code",
   "execution_count": 184,
   "metadata": {},
   "outputs": [],
   "source": [
    "desc_arr = [(title, description, category_name) for category_name in titles_and_descriptions \n",
    "            for title, description in titles_and_descriptions[category_name]]"
   ]
  },
  {
   "cell_type": "code",
   "execution_count": 201,
   "metadata": {},
   "outputs": [],
   "source": [
    "import pandas as pd\n",
    "\n",
    "dataset = pd.DataFrame(desc_arr, columns=['title', 'description', 'category'])\n",
    "dataset = dataset.drop_duplicates('title')"
   ]
  },
  {
   "cell_type": "code",
   "execution_count": 205,
   "metadata": {},
   "outputs": [],
   "source": [
    "dataset.to_csv('gry_planszowe.csv', index=False)"
   ]
  },
  {
   "cell_type": "code",
   "execution_count": 203,
   "metadata": {},
   "outputs": [
    {
     "data": {
      "text/plain": [
       "654"
      ]
     },
     "execution_count": 203,
     "metadata": {},
     "output_type": "execute_result"
    }
   ],
   "source": [
    "len(dataset)"
   ]
  },
  {
   "cell_type": "code",
   "execution_count": 204,
   "metadata": {},
   "outputs": [
    {
     "name": "stdout",
     "output_type": "stream",
     "text": [
      "Familijne: 322\n",
      "Strategiczne: 139\n",
      "Imprezowe: 179\n",
      "Przygodowe: 70\n"
     ]
    }
   ],
   "source": [
    "for k, v in titles_and_descriptions.items():\n",
    "    print(f'{k}: {len(v)}')"
   ]
  },
  {
   "cell_type": "code",
   "execution_count": 4,
   "metadata": {},
   "outputs": [
    {
     "data": {
      "text/html": [
       "<div>\n",
       "<style scoped>\n",
       "    .dataframe tbody tr th:only-of-type {\n",
       "        vertical-align: middle;\n",
       "    }\n",
       "\n",
       "    .dataframe tbody tr th {\n",
       "        vertical-align: top;\n",
       "    }\n",
       "\n",
       "    .dataframe thead th {\n",
       "        text-align: right;\n",
       "    }\n",
       "</style>\n",
       "<table border=\"1\" class=\"dataframe\">\n",
       "  <thead>\n",
       "    <tr style=\"text-align: right;\">\n",
       "      <th></th>\n",
       "      <th>title</th>\n",
       "      <th>description</th>\n",
       "      <th>category</th>\n",
       "    </tr>\n",
       "  </thead>\n",
       "  <tbody>\n",
       "    <tr>\n",
       "      <th>0</th>\n",
       "      <td>Carcassonne Big Box 6 edycja polska</td>\n",
       "      <td>W pudełku znajdziesz podstawową wersję rewelac...</td>\n",
       "      <td>Familijne</td>\n",
       "    </tr>\n",
       "    <tr>\n",
       "      <th>1</th>\n",
       "      <td>Magiczny labirynt (w metalowej puszce)</td>\n",
       "      <td>Gra dla całej rodziny o odpowiednim umieszczan...</td>\n",
       "      <td>Familijne</td>\n",
       "    </tr>\n",
       "    <tr>\n",
       "      <th>2</th>\n",
       "      <td>Jeszcze raz! (Noch Mal!)</td>\n",
       "      <td>Genialna gra kościana dla całej rodziny!</td>\n",
       "      <td>Familijne</td>\n",
       "    </tr>\n",
       "    <tr>\n",
       "      <th>3</th>\n",
       "      <td>Pędzące żółwie</td>\n",
       "      <td>Prędzej, prędzej, kto pierwszy!!</td>\n",
       "      <td>Familijne</td>\n",
       "    </tr>\n",
       "    <tr>\n",
       "      <th>4</th>\n",
       "      <td>Czego chcesz? (Gönnen Können)</td>\n",
       "      <td>Fascynująca gra kościana dla całej rodziny!</td>\n",
       "      <td>Familijne</td>\n",
       "    </tr>\n",
       "    <tr>\n",
       "      <th>...</th>\n",
       "      <td>...</td>\n",
       "      <td>...</td>\n",
       "      <td>...</td>\n",
       "    </tr>\n",
       "    <tr>\n",
       "      <th>649</th>\n",
       "      <td>Labyrinth: Ścieżki Przeznaczenia (2 edycja)</td>\n",
       "      <td>Labyrinth: Ścieżki Przeznaczenia to rewelacyjn...</td>\n",
       "      <td>Przygodowe</td>\n",
       "    </tr>\n",
       "    <tr>\n",
       "      <th>650</th>\n",
       "      <td>Ghost Stories (druga edycja)</td>\n",
       "      <td>Stańcie razem naprzeciw duchom!</td>\n",
       "      <td>Przygodowe</td>\n",
       "    </tr>\n",
       "    <tr>\n",
       "      <th>651</th>\n",
       "      <td>Łowcy Smoków</td>\n",
       "      <td>Łowcy smoków to gra o przebiegłości i dyplomac...</td>\n",
       "      <td>Przygodowe</td>\n",
       "    </tr>\n",
       "    <tr>\n",
       "      <th>652</th>\n",
       "      <td>Lords of Xidit (edycja polska)</td>\n",
       "      <td>\"Eony temu, zanim świat stał się znanym nam św...</td>\n",
       "      <td>Przygodowe</td>\n",
       "    </tr>\n",
       "    <tr>\n",
       "      <th>653</th>\n",
       "      <td>Kroniki Zbrodni</td>\n",
       "      <td>Kroniki zbrodni to innowacyjne połączenie gry ...</td>\n",
       "      <td>Przygodowe</td>\n",
       "    </tr>\n",
       "  </tbody>\n",
       "</table>\n",
       "<p>654 rows × 3 columns</p>\n",
       "</div>"
      ],
      "text/plain": [
       "                                           title  \\\n",
       "0            Carcassonne Big Box 6 edycja polska   \n",
       "1         Magiczny labirynt (w metalowej puszce)   \n",
       "2                       Jeszcze raz! (Noch Mal!)   \n",
       "3                                 Pędzące żółwie   \n",
       "4                  Czego chcesz? (Gönnen Können)   \n",
       "..                                           ...   \n",
       "649  Labyrinth: Ścieżki Przeznaczenia (2 edycja)   \n",
       "650                 Ghost Stories (druga edycja)   \n",
       "651                                 Łowcy Smoków   \n",
       "652               Lords of Xidit (edycja polska)   \n",
       "653                              Kroniki Zbrodni   \n",
       "\n",
       "                                           description    category  \n",
       "0    W pudełku znajdziesz podstawową wersję rewelac...   Familijne  \n",
       "1    Gra dla całej rodziny o odpowiednim umieszczan...   Familijne  \n",
       "2             Genialna gra kościana dla całej rodziny!   Familijne  \n",
       "3                     Prędzej, prędzej, kto pierwszy!!   Familijne  \n",
       "4          Fascynująca gra kościana dla całej rodziny!   Familijne  \n",
       "..                                                 ...         ...  \n",
       "649  Labyrinth: Ścieżki Przeznaczenia to rewelacyjn...  Przygodowe  \n",
       "650                    Stańcie razem naprzeciw duchom!  Przygodowe  \n",
       "651  Łowcy smoków to gra o przebiegłości i dyplomac...  Przygodowe  \n",
       "652  \"Eony temu, zanim świat stał się znanym nam św...  Przygodowe  \n",
       "653  Kroniki zbrodni to innowacyjne połączenie gry ...  Przygodowe  \n",
       "\n",
       "[654 rows x 3 columns]"
      ]
     },
     "execution_count": 4,
     "metadata": {},
     "output_type": "execute_result"
    }
   ],
   "source": [
    "dataset"
   ]
  }
 ],
 "metadata": {
  "kernelspec": {
   "display_name": "Python 3",
   "language": "python",
   "name": "python3"
  },
  "language_info": {
   "codemirror_mode": {
    "name": "ipython",
    "version": 3
   },
   "file_extension": ".py",
   "mimetype": "text/x-python",
   "name": "python",
   "nbconvert_exporter": "python",
   "pygments_lexer": "ipython3",
   "version": "3.7.6"
  }
 },
 "nbformat": 4,
 "nbformat_minor": 4
}
